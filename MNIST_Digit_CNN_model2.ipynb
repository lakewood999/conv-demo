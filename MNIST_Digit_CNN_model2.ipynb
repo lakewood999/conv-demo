{
 "cells": [
  {
   "cell_type": "code",
   "execution_count": 2,
   "id": "f49f7cc3-fb21-4033-bf95-171342d50e88",
   "metadata": {},
   "outputs": [],
   "source": [
    "# Basic convolutional neural network for MNIST digit\n",
    "# Steven Su\n",
    "# Compiled from multiple sources including \n",
    "# 1. https://machinelearningmastery.com/how-to-develop-a-convolutional-neural-network-from-scratch-for-mnist-handwritten-digit-classification/\n",
    "# and 2. https://www.kaggle.com/code/elcaiseri/mnist-simple-cnn-keras-accuracy-0-99-top-1/notebook\n",
    "\n",
    "# Using https://www.kaggle.com/code/cdeotte/how-to-choose-cnn-architecture-mnist/notebook#Experiment-4\n",
    "\n",
    "from matplotlib import pyplot as plt\n",
    "from sklearn.model_selection import KFold\n",
    "from tensorflow.keras.datasets import mnist\n",
    "from tensorflow.keras.utils import to_categorical\n",
    "from tensorflow.keras.models import Sequential\n",
    "from tensorflow.keras.layers import Conv2D, MaxPooling2D, Dense, Flatten, BatchNormalization, Dropout\n",
    "from tensorflow.keras.optimizers import SGD"
   ]
  },
  {
   "cell_type": "code",
   "execution_count": 3,
   "id": "924e5cf3-0010-4106-8e0c-4bcc9dfa6a5d",
   "metadata": {},
   "outputs": [],
   "source": [
    "# load train and test dataset\n",
    "def load_dataset():\n",
    "    # load dataset\n",
    "    (trainX, trainY), (testX, testY) = mnist.load_data()\n",
    "    # reshape dataset to have a single channel\n",
    "    trainX = trainX.reshape((trainX.shape[0], 28, 28, 1))\n",
    "    testX = testX.reshape((testX.shape[0], 28, 28, 1))\n",
    "    # one hot encode target values\n",
    "    trainY = to_categorical(trainY)\n",
    "    testY = to_categorical(testY)\n",
    "    return trainX, trainY, testX, testY\n",
    " \n",
    "# scale pixels\n",
    "def prep_pixels(train, test):\n",
    "    # convert from integers to floats\n",
    "    train_norm = train.astype('float32')\n",
    "    test_norm = test.astype('float32')\n",
    "    # normalize to range 0-1\n",
    "    train_norm = train_norm / 255.0\n",
    "    test_norm = test_norm / 255.0\n",
    "    # return normalized images\n",
    "    return train_norm, test_norm\n",
    "\n",
    "def define_model():\n",
    "    model = Sequential()\n",
    "\n",
    "    model.add(Conv2D(32,kernel_size=3,activation='relu',input_shape=(28,28,1)))\n",
    "    model.add(BatchNormalization())\n",
    "    model.add(Conv2D(32,kernel_size=3,activation='relu'))\n",
    "    model.add(BatchNormalization())\n",
    "    model.add(Conv2D(32,kernel_size=5,strides=2,padding='same',activation='relu'))\n",
    "    model.add(BatchNormalization())\n",
    "    model.add(Dropout(0.4))\n",
    "\n",
    "    model.add(Conv2D(64,kernel_size=3,activation='relu'))\n",
    "    model.add(BatchNormalization())\n",
    "    model.add(Conv2D(64,kernel_size=3,activation='relu'))\n",
    "    model.add(BatchNormalization())\n",
    "    model.add(Conv2D(64,kernel_size=5,strides=2,padding='same',activation='relu'))\n",
    "    model.add(BatchNormalization())\n",
    "    model.add(Dropout(0.4))\n",
    "\n",
    "    model.add(Flatten())\n",
    "    model.add(Dense(128, activation='relu'))\n",
    "    model.add(BatchNormalization())\n",
    "    model.add(Dropout(0.4))\n",
    "    model.add(Dense(10, activation='softmax'))\n",
    "\n",
    "    model.compile(optimizer=\"adam\", loss=\"categorical_crossentropy\", metrics=[\"accuracy\"])\n",
    "    \n",
    "    return model\n",
    "\n",
    "tx, ty, vx, vy = load_dataset()\n",
    "tx_norm, vx_norm = prep_pixels(tx,vx)"
   ]
  },
  {
   "cell_type": "code",
   "execution_count": 5,
   "id": "075aeac0-e946-4462-a529-5aa17d6bf2c9",
   "metadata": {},
   "outputs": [
    {
     "name": "stderr",
     "output_type": "stream",
     "text": [
      "2022-05-18 12:11:47.976315: I tensorflow/core/platform/cpu_feature_guard.cc:151] This TensorFlow binary is optimized with oneAPI Deep Neural Network Library (oneDNN) to use the following CPU instructions in performance-critical operations:  AVX2 FMA\n",
      "To enable them in other operations, rebuild TensorFlow with the appropriate compiler flags.\n",
      "2022-05-18 12:11:47.976633: I tensorflow/stream_executor/cuda/cuda_gpu_executor.cc:936] successful NUMA node read from SysFS had negative value (-1), but there must be at least one NUMA node, so returning NUMA node zero\n",
      "2022-05-18 12:11:47.976795: I tensorflow/stream_executor/cuda/cuda_gpu_executor.cc:936] successful NUMA node read from SysFS had negative value (-1), but there must be at least one NUMA node, so returning NUMA node zero\n",
      "2022-05-18 12:11:47.976885: I tensorflow/stream_executor/cuda/cuda_gpu_executor.cc:936] successful NUMA node read from SysFS had negative value (-1), but there must be at least one NUMA node, so returning NUMA node zero\n",
      "2022-05-18 12:11:48.305050: I tensorflow/stream_executor/cuda/cuda_gpu_executor.cc:936] successful NUMA node read from SysFS had negative value (-1), but there must be at least one NUMA node, so returning NUMA node zero\n",
      "2022-05-18 12:11:48.305176: I tensorflow/stream_executor/cuda/cuda_gpu_executor.cc:936] successful NUMA node read from SysFS had negative value (-1), but there must be at least one NUMA node, so returning NUMA node zero\n",
      "2022-05-18 12:11:48.305266: I tensorflow/stream_executor/cuda/cuda_gpu_executor.cc:936] successful NUMA node read from SysFS had negative value (-1), but there must be at least one NUMA node, so returning NUMA node zero\n",
      "2022-05-18 12:11:48.305344: I tensorflow/core/common_runtime/gpu/gpu_device.cc:1525] Created device /job:localhost/replica:0/task:0/device:GPU:0 with 9525 MB memory:  -> device: 0, name: NVIDIA GeForce RTX 2080 Ti, pci bus id: 0000:01:00.0, compute capability: 7.5\n"
     ]
    },
    {
     "name": "stdout",
     "output_type": "stream",
     "text": [
      "Epoch 1/35\n"
     ]
    },
    {
     "name": "stderr",
     "output_type": "stream",
     "text": [
      "2022-05-18 12:11:49.458569: I tensorflow/stream_executor/cuda/cuda_dnn.cc:368] Loaded cuDNN version 8201\n",
      "2022-05-18 12:11:49.743764: I tensorflow/core/platform/default/subprocess.cc:304] Start cannot spawn child process: No such file or directory\n"
     ]
    },
    {
     "name": "stdout",
     "output_type": "stream",
     "text": [
      "937/937 [==============================] - 16s 15ms/step - loss: 0.2182 - accuracy: 0.9337 - val_loss: 0.0401 - val_accuracy: 0.9858\n",
      "Epoch 2/35\n",
      "937/937 [==============================] - 13s 14ms/step - loss: 0.0668 - accuracy: 0.9797 - val_loss: 0.0349 - val_accuracy: 0.9886\n",
      "Epoch 3/35\n",
      "937/937 [==============================] - 14s 15ms/step - loss: 0.0519 - accuracy: 0.9842 - val_loss: 0.0376 - val_accuracy: 0.9884\n",
      "Epoch 4/35\n",
      "937/937 [==============================] - 13s 14ms/step - loss: 0.0428 - accuracy: 0.9871 - val_loss: 0.0225 - val_accuracy: 0.9929\n",
      "Epoch 5/35\n",
      "937/937 [==============================] - 13s 13ms/step - loss: 0.0399 - accuracy: 0.9878 - val_loss: 0.0213 - val_accuracy: 0.9928\n",
      "Epoch 6/35\n",
      "937/937 [==============================] - 13s 14ms/step - loss: 0.0365 - accuracy: 0.9890 - val_loss: 0.0227 - val_accuracy: 0.9930\n",
      "Epoch 7/35\n",
      "937/937 [==============================] - 13s 14ms/step - loss: 0.0307 - accuracy: 0.9902 - val_loss: 0.0217 - val_accuracy: 0.9938\n",
      "Epoch 8/35\n",
      "937/937 [==============================] - 12s 13ms/step - loss: 0.0300 - accuracy: 0.9906 - val_loss: 0.0198 - val_accuracy: 0.9937\n",
      "Epoch 9/35\n",
      "937/937 [==============================] - 13s 14ms/step - loss: 0.0269 - accuracy: 0.9916 - val_loss: 0.0252 - val_accuracy: 0.9923\n",
      "Epoch 10/35\n",
      "937/937 [==============================] - 14s 15ms/step - loss: 0.0250 - accuracy: 0.9921 - val_loss: 0.0191 - val_accuracy: 0.9939\n",
      "Epoch 11/35\n",
      "937/937 [==============================] - 13s 14ms/step - loss: 0.0217 - accuracy: 0.9930 - val_loss: 0.0209 - val_accuracy: 0.9933\n",
      "Epoch 12/35\n",
      "937/937 [==============================] - 13s 14ms/step - loss: 0.0211 - accuracy: 0.9930 - val_loss: 0.0172 - val_accuracy: 0.9950\n",
      "Epoch 13/35\n",
      "937/937 [==============================] - 13s 14ms/step - loss: 0.0180 - accuracy: 0.9945 - val_loss: 0.0263 - val_accuracy: 0.9927\n",
      "Epoch 14/35\n",
      "937/937 [==============================] - 14s 15ms/step - loss: 0.0185 - accuracy: 0.9943 - val_loss: 0.0188 - val_accuracy: 0.9944\n",
      "Epoch 15/35\n",
      "937/937 [==============================] - 14s 15ms/step - loss: 0.0177 - accuracy: 0.9947 - val_loss: 0.0183 - val_accuracy: 0.9949\n",
      "Epoch 16/35\n",
      "937/937 [==============================] - 14s 15ms/step - loss: 0.0160 - accuracy: 0.9951 - val_loss: 0.0203 - val_accuracy: 0.9948\n",
      "Epoch 17/35\n",
      "937/937 [==============================] - 13s 14ms/step - loss: 0.0145 - accuracy: 0.9956 - val_loss: 0.0183 - val_accuracy: 0.9953\n",
      "Epoch 18/35\n",
      "937/937 [==============================] - 13s 14ms/step - loss: 0.0143 - accuracy: 0.9956 - val_loss: 0.0185 - val_accuracy: 0.9950\n",
      "Epoch 19/35\n",
      "937/937 [==============================] - 13s 14ms/step - loss: 0.0124 - accuracy: 0.9962 - val_loss: 0.0212 - val_accuracy: 0.9943\n",
      "Epoch 20/35\n",
      "937/937 [==============================] - 14s 15ms/step - loss: 0.0118 - accuracy: 0.9961 - val_loss: 0.0202 - val_accuracy: 0.9949\n",
      "Epoch 21/35\n",
      "937/937 [==============================] - 14s 14ms/step - loss: 0.0134 - accuracy: 0.9956 - val_loss: 0.0157 - val_accuracy: 0.9959\n",
      "Epoch 22/35\n",
      "937/937 [==============================] - 12s 13ms/step - loss: 0.0120 - accuracy: 0.9962 - val_loss: 0.0191 - val_accuracy: 0.9947\n",
      "Epoch 23/35\n",
      "937/937 [==============================] - 14s 15ms/step - loss: 0.0116 - accuracy: 0.9965 - val_loss: 0.0186 - val_accuracy: 0.9949\n",
      "Epoch 24/35\n",
      "937/937 [==============================] - 13s 14ms/step - loss: 0.0099 - accuracy: 0.9969 - val_loss: 0.0169 - val_accuracy: 0.9959\n",
      "Epoch 25/35\n",
      "937/937 [==============================] - 12s 13ms/step - loss: 0.0090 - accuracy: 0.9970 - val_loss: 0.0210 - val_accuracy: 0.9956\n",
      "Epoch 26/35\n",
      "937/937 [==============================] - 13s 14ms/step - loss: 0.0099 - accuracy: 0.9966 - val_loss: 0.0183 - val_accuracy: 0.9957\n",
      "Epoch 27/35\n",
      "937/937 [==============================] - 13s 14ms/step - loss: 0.0093 - accuracy: 0.9967 - val_loss: 0.0199 - val_accuracy: 0.9948\n",
      "Epoch 28/35\n",
      "937/937 [==============================] - 14s 15ms/step - loss: 0.0089 - accuracy: 0.9971 - val_loss: 0.0211 - val_accuracy: 0.9949\n",
      "Epoch 29/35\n",
      "937/937 [==============================] - 13s 14ms/step - loss: 0.0086 - accuracy: 0.9973 - val_loss: 0.0198 - val_accuracy: 0.9953\n",
      "Epoch 30/35\n",
      "937/937 [==============================] - 13s 14ms/step - loss: 0.0073 - accuracy: 0.9976 - val_loss: 0.0206 - val_accuracy: 0.9948\n",
      "Epoch 31/35\n",
      "937/937 [==============================] - 14s 15ms/step - loss: 0.0068 - accuracy: 0.9978 - val_loss: 0.0208 - val_accuracy: 0.9948\n",
      "Epoch 32/35\n",
      "937/937 [==============================] - 14s 15ms/step - loss: 0.0080 - accuracy: 0.9975 - val_loss: 0.0219 - val_accuracy: 0.9951\n",
      "Epoch 33/35\n",
      "937/937 [==============================] - 14s 14ms/step - loss: 0.0073 - accuracy: 0.9976 - val_loss: 0.0196 - val_accuracy: 0.9951\n",
      "Epoch 34/35\n",
      "937/937 [==============================] - 14s 15ms/step - loss: 0.0054 - accuracy: 0.9983 - val_loss: 0.0197 - val_accuracy: 0.9952\n",
      "Epoch 35/35\n",
      "937/937 [==============================] - 13s 14ms/step - loss: 0.0079 - accuracy: 0.9974 - val_loss: 0.0182 - val_accuracy: 0.9955\n"
     ]
    }
   ],
   "source": [
    "epochs = 35\n",
    "batch_size = 64\n",
    "train_steps = tx_norm.shape[0] // batch_size\n",
    "valid_steps = vx_norm.shape[0] // batch_size\n",
    "\n",
    "model = define_model()\n",
    "\n",
    "history = model.fit(tx_norm, ty, epochs=epochs, batch_size=batch_size, validation_data=(vx_norm, vy), steps_per_epoch = train_steps, validation_steps = valid_steps)"
   ]
  },
  {
   "cell_type": "code",
   "execution_count": 6,
   "id": "b5a786bb-f4f6-49ed-aa9d-753a680743d8",
   "metadata": {},
   "outputs": [
    {
     "name": "stderr",
     "output_type": "stream",
     "text": [
      "2022-05-18 12:19:54.392837: W tensorflow/python/util/util.cc:368] Sets are not currently considered sequences, but this may change in the future, so consider avoiding using them.\n"
     ]
    },
    {
     "name": "stdout",
     "output_type": "stream",
     "text": [
      "INFO:tensorflow:Assets written to: /home/stevensu/Documents/Github/Model2/assets\n"
     ]
    }
   ],
   "source": [
    "import tensorflow as tf\n",
    "tf.keras.models.save_model(\n",
    "    model,\n",
    "    \"/home/stevensu/Documents/Github/Model2\",\n",
    "    overwrite=True,\n",
    "    include_optimizer=True,\n",
    "    save_format=None,\n",
    "    signatures=None,\n",
    "    options=None\n",
    ")"
   ]
  },
  {
   "cell_type": "code",
   "execution_count": 4,
   "id": "eb4afb60-d6c6-41f2-a51c-0d2f39896915",
   "metadata": {},
   "outputs": [
    {
     "name": "stderr",
     "output_type": "stream",
     "text": [
      "2022-05-18 12:11:41.409392: I tensorflow/stream_executor/cuda/cuda_gpu_executor.cc:936] successful NUMA node read from SysFS had negative value (-1), but there must be at least one NUMA node, so returning NUMA node zero\n",
      "2022-05-18 12:11:41.413733: I tensorflow/stream_executor/cuda/cuda_gpu_executor.cc:936] successful NUMA node read from SysFS had negative value (-1), but there must be at least one NUMA node, so returning NUMA node zero\n",
      "2022-05-18 12:11:41.413892: I tensorflow/stream_executor/cuda/cuda_gpu_executor.cc:936] successful NUMA node read from SysFS had negative value (-1), but there must be at least one NUMA node, so returning NUMA node zero\n"
     ]
    },
    {
     "data": {
      "text/plain": [
       "[PhysicalDevice(name='/physical_device:GPU:0', device_type='GPU')]"
      ]
     },
     "execution_count": 4,
     "metadata": {},
     "output_type": "execute_result"
    }
   ],
   "source": [
    "import tensorflow as tf\n",
    "tf.config.list_physical_devices('GPU') "
   ]
  }
 ],
 "metadata": {
  "kernelspec": {
   "display_name": "Python 3 (ipykernel)",
   "language": "python",
   "name": "python3"
  },
  "language_info": {
   "codemirror_mode": {
    "name": "ipython",
    "version": 3
   },
   "file_extension": ".py",
   "mimetype": "text/x-python",
   "name": "python",
   "nbconvert_exporter": "python",
   "pygments_lexer": "ipython3",
   "version": "3.8.10"
  }
 },
 "nbformat": 4,
 "nbformat_minor": 5
}
